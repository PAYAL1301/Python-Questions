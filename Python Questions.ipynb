{
 "cells": [
  {
   "cell_type": "markdown",
   "metadata": {
    "id": "bsJxbbzKQz3u"
   },
   "source": [
    "### 1\n",
    "- Generate integer between (100 to 200) using while loop.\n",
    "- if i want number till 155"
   ]
  },
  {
   "cell_type": "code",
   "execution_count": null,
   "metadata": {
    "colab": {
     "base_uri": "https://localhost:8080/"
    },
    "id": "7QdHBoM9Qz3u",
    "outputId": "f5226667-c968-4d01-d1dc-d302d395489c"
   },
   "outputs": [
    {
     "name": "stdout",
     "output_type": "stream",
     "text": [
      "101\n",
      "102\n",
      "103\n",
      "104\n",
      "105\n",
      "106\n",
      "107\n",
      "108\n",
      "109\n",
      "110\n",
      "111\n",
      "112\n",
      "113\n",
      "114\n",
      "115\n",
      "116\n",
      "117\n",
      "118\n",
      "119\n",
      "120\n",
      "121\n",
      "122\n",
      "123\n",
      "124\n",
      "125\n",
      "126\n",
      "127\n",
      "128\n",
      "129\n",
      "130\n",
      "131\n",
      "132\n",
      "133\n",
      "134\n",
      "135\n",
      "136\n",
      "137\n",
      "138\n",
      "139\n",
      "140\n",
      "141\n",
      "142\n",
      "143\n",
      "144\n",
      "145\n",
      "146\n",
      "147\n",
      "148\n",
      "149\n",
      "150\n",
      "151\n",
      "152\n",
      "153\n",
      "154\n",
      "155\n",
      "156\n",
      "157\n",
      "158\n",
      "159\n",
      "160\n",
      "161\n",
      "162\n",
      "163\n",
      "164\n",
      "165\n",
      "166\n",
      "167\n",
      "168\n",
      "169\n",
      "170\n",
      "171\n",
      "172\n",
      "173\n",
      "174\n",
      "175\n",
      "176\n",
      "177\n",
      "178\n",
      "179\n",
      "180\n",
      "181\n",
      "182\n",
      "183\n",
      "184\n",
      "185\n",
      "186\n",
      "187\n",
      "188\n",
      "189\n",
      "190\n",
      "191\n",
      "192\n",
      "193\n",
      "194\n",
      "195\n",
      "196\n",
      "197\n",
      "198\n",
      "199\n",
      "200\n"
     ]
    }
   ],
   "source": [
    "x=100           # defining x value of 100\n",
    "while(x<200):   #here we using the while loop to iterate through the numbers till 200\n",
    "  x=x+1         #incrementing x\n",
    "  print(x)"
   ]
  },
  {
   "cell_type": "markdown",
   "metadata": {
    "id": "rv7aDniLQz3v"
   },
   "source": [
    "### 2\n",
    "Refer task 3 and print even and odd number."
   ]
  },
  {
   "cell_type": "code",
   "execution_count": null,
   "metadata": {
    "colab": {
     "base_uri": "https://localhost:8080/"
    },
    "id": "es86imtWQz3v",
    "outputId": "aac37876-6328-4a6a-ac3b-78c1237774a4"
   },
   "outputs": [
    {
     "name": "stdout",
     "output_type": "stream",
     "text": [
      "Enter the value of number:24\n",
      "Even number\n"
     ]
    }
   ],
   "source": [
    "num=input(\"Enter the value of number:\")       #taking input from the user\n",
    "number=int(num)                               #making input a integer number\n",
    "if number%2==0:                               # using if, elif condition to print out the even and odd number\n",
    "  print(\"Even number\")\n",
    "elif number%3==0:\n",
    "  print(\"Odd number\")"
   ]
  },
  {
   "cell_type": "markdown",
   "metadata": {
    "id": "rlaRFWk0Qz3v"
   },
   "source": [
    "###  3\n",
    "Take value from the user and Seprate them into Positive & negative number."
   ]
  },
  {
   "cell_type": "code",
   "execution_count": null,
   "metadata": {
    "colab": {
     "base_uri": "https://localhost:8080/"
    },
    "id": "_43SJ0jZQz3w",
    "outputId": "e7cd0adb-ab1d-46e5-cb0b-f9d36b199f1b"
   },
   "outputs": [
    {
     "name": "stdout",
     "output_type": "stream",
     "text": [
      "Enter the value of number:-21\n",
      "Negative Number\n"
     ]
    }
   ],
   "source": [
    "num=input(\"Enter the value of number:\")          #taking input from the user\n",
    "number=int(num)                                  #making input a integer number\n",
    "if number>0:                                     # using if, elif condition to print out the positive and negative number\n",
    "  print(\"Positive Number\")\n",
    "elif number<0:\n",
    "  print(\"Negative Number\")\n",
    "else:\n",
    "  print(\"Number is 0\")"
   ]
  },
  {
   "cell_type": "markdown",
   "metadata": {
    "id": "b524WkYdQz3w"
   },
   "source": [
    "### 4\n",
    "thistuple = (\"apple\", \"banana\", \"cherry\", \"orange\", \"kiwi\", \"melon\", \"mango\")<br>Print thistuple in reverse format."
   ]
  },
  {
   "cell_type": "code",
   "execution_count": null,
   "metadata": {
    "colab": {
     "base_uri": "https://localhost:8080/"
    },
    "id": "oP5Kip2hQz3w",
    "outputId": "2fc28fca-6e52-4a6b-e09e-ecf1d98a6588"
   },
   "outputs": [
    {
     "data": {
      "text/plain": [
       "('mango', 'melon', 'kiwi', 'orange', 'cherry', 'banana', 'apple')"
      ]
     },
     "execution_count": 14,
     "metadata": {
      "tags": []
     },
     "output_type": "execute_result"
    }
   ],
   "source": [
    "thistuple = (\"apple\", \"banana\", \"cherry\", \"orange\", \"kiwi\", \"melon\", \"mango\")\n",
    "thistuple= tuple(reversed(thistuple))                                          # making tuple reversed by using reversed function\n",
    "thistuple"
   ]
  },
  {
   "cell_type": "markdown",
   "metadata": {
    "id": "rC-eyHdiQz3w"
   },
   "source": [
    "###  5\n",
    "Calculate mean, median, mode and standard deviation of given list.<br>\n",
    "A=[2,5,6,9,7,3]<br>B=[2,5,3,2,8,3,2,1,9,4,2,5,6]<br>C=[1,1.5,2,2.5,3,3.5,4,5,6,4.5,5]"
   ]
  },
  {
   "cell_type": "code",
   "execution_count": null,
   "metadata": {
    "colab": {
     "base_uri": "https://localhost:8080/"
    },
    "id": "THydy-D9Qz3x",
    "outputId": "511dd0fc-3b66-40ad-9498-5783da4cb7af"
   },
   "outputs": [
    {
     "name": "stdout",
     "output_type": "stream",
     "text": [
      "Mean / Average of A  is: 5.333333333333333\n",
      "Mean / Average of B is: 4.0\n",
      "Mean / Average of C is: 3.4545454545454546\n",
      "Median of A is: 5.5\n",
      "Median of B is: 3\n",
      "Median of C is: 3.5\n",
      "No mode found\n",
      "Mode Of B is / are: 2\n",
      "Mode Of C is / are: 5\n"
     ]
    }
   ],
   "source": [
    "A=[2,5,6,9,7,3] \n",
    "n = len(A)\n",
    "get_sum = sum(A)                           # sum of the numbers in the used using sum() function\n",
    "mean = get_sum / n                         # mean by dividing the sum by number of values\n",
    "  \n",
    "print(\"Mean / Average of A  is: \" + str(mean))\n",
    "\n",
    "\n",
    "B=[2,5,3,2,8,3,2,1,9,4,2,5,6]\n",
    "n = len(B)\n",
    "get_sum = sum(B)\n",
    "mean = get_sum / n                         # mean by dividing the sum by number of values\n",
    "  \n",
    "print(\"Mean / Average of B is: \" + str(mean))\n",
    "\n",
    "C=[1,1.5,2,2.5,3,3.5,4,5,6,4.5,5]\n",
    "n = len(C)\n",
    "get_sum = sum(C)\n",
    "mean = get_sum / n                          # mean by dividing the sum by number of values\n",
    "  \n",
    "print(\"Mean / Average of C is: \" + str(mean))\n",
    "\n",
    "\n",
    "\n",
    "A=[2,5,6,9,7,3]\n",
    "n = len(A)\n",
    "A.sort()                                    # sorting the values in list\n",
    "  \n",
    "if n % 2 == 0:                              # using if, elif condition to calculate median \n",
    "    median1 = A[n//2]\n",
    "    median2 = A[n//2 - 1]\n",
    "    median = (median1 + median2)/2\n",
    "else:\n",
    "    median = A[n//2]\n",
    "print(\"Median of A is: \" + str(median))\n",
    "\n",
    "B=[2,5,3,2,8,3,2,1,9,4,2,5,6]\n",
    "n = len(B)\n",
    "B.sort()                                    # sorting the values in list\n",
    "  \n",
    "if n % 2 == 0:                              # using if, elif condition to calculate median \n",
    "    median1 = B[n//2]\n",
    "    median2 = B[n//2 - 1]\n",
    "    median = (median1 + median2)/2\n",
    "else:\n",
    "    median = B[n//2]\n",
    "print(\"Median of B is: \" + str(median))\n",
    "\n",
    "C=[1,1.5,2,2.5,3,3.5,4,5,6,4.5,5]\n",
    "n = len(C)\n",
    "C.sort()                                     # sorting the values in list\n",
    "  \n",
    "if n % 2 == 0:                               # using if, elif condition to calculate median \n",
    "    median1 = C[n//2]\n",
    "    median2 = C[n//2 - 1]\n",
    "    median = (median1 + median2)/2\n",
    "else:\n",
    "    median = C[n//2]\n",
    "print(\"Median of C is: \" + str(median))\n",
    "\n",
    "\n",
    "from collections import Counter              # importing counter \n",
    "\n",
    "A=[2,5,6,9,7,3]\n",
    "n = len(A)\n",
    "  \n",
    "data = Counter(A)\n",
    "get_mode = dict(data)\n",
    "mode = [k for k, v in get_mode.items() if v == max(list(data.values()))]     # using for loop to iterate and using if condition\n",
    "  \n",
    "if len(mode) == n:                                                           #using if, else condition to calculate mode\n",
    "    get_mode = \"No mode found\"\n",
    "else:\n",
    "    get_mode = \"Mode Of A is / are: \" + ', '.join(map(str, mode))\n",
    "      \n",
    "print(get_mode)\n",
    "\n",
    "\n",
    "B=[2,5,3,2,8,3,2,1,9,4,2,5,6]\n",
    "n = len(B)\n",
    "data = Counter(B)\n",
    "get_mode = dict(data)\n",
    "mode = [k for k, v in get_mode.items() if v == max(list(data.values()))]     # using for loop to iterate and using if condition\n",
    "  \n",
    "if len(mode) == n:                                                           #using if, else condition to calculate mode\n",
    "    get_mode = \"No mode found\"\n",
    "else:\n",
    "    get_mode = \"Mode Of B is / are: \" + ', '.join(map(str, mode))\n",
    "      \n",
    "print(get_mode)\n",
    "\n",
    "C=[1,1.5,2,2.5,3,3.5,4,5,6,4.5,5]\n",
    "n = len(C)\n",
    "data = Counter(C)\n",
    "get_mode = dict(data)\n",
    "mode = [k for k, v in get_mode.items() if v == max(list(data.values()))]    # using for loop to iterate and using if condition\n",
    "  \n",
    "if len(mode) == n:                                                          #using if, else condition to calculate mode\n",
    "    get_mode = \"No mode found\"\n",
    "else:\n",
    "    get_mode = \"Mode Of C is / are: \" + ', '.join(map(str, mode))\n",
    "      \n",
    "print(get_mode)\n",
    "\n",
    "\n",
    "\n",
    "\n"
   ]
  },
  {
   "cell_type": "code",
   "execution_count": null,
   "metadata": {
    "colab": {
     "base_uri": "https://localhost:8080/"
    },
    "id": "p7JQ08ikXaHH",
    "outputId": "37eb58d4-846f-4e11-dbdf-447b287bb071"
   },
   "outputs": [
    {
     "name": "stdout",
     "output_type": "stream",
     "text": [
      "9\n"
     ]
    }
   ],
   "source": [
    "A=[2,5,6,9,7,3]\n",
    "n = len(n_num)\n",
    "n_num.sort()                   #sorting the values\n",
    "  \n",
    "if n % 2 == 0:                 #using if, else condition to calculate the median\n",
    "    median1 = n_num[n//2]\n",
    "    median2 = n_num[n//2 - 1]\n",
    "    median = (median1 + median2)/2\n",
    "else:\n",
    "    median = n_num[n//2]\n",
    "print(\"Median is: \" + str(median))"
   ]
  },
  {
   "cell_type": "markdown",
   "metadata": {
    "id": "cD5rJyQGQz3x"
   },
   "source": [
    "###  6:\n",
    "- Write a program to find compound interest\n",
    "- A = P(1 + R/100) t\n",
    "\n",
    "    Compound Interest = A – P\n",
    "    Where,\n",
    "    \n",
    "    A is amount\n",
    "    \n",
    "    P is principle amount\n",
    "    \n",
    "    R is the rate and\n",
    "    \n",
    "    T is the time span"
   ]
  },
  {
   "cell_type": "code",
   "execution_count": null,
   "metadata": {
    "colab": {
     "base_uri": "https://localhost:8080/"
    },
    "id": "lwqJ6Ir_Qz3x",
    "outputId": "2b7574a0-2fd2-4cba-d010-2e799af0fc5b"
   },
   "outputs": [
    {
     "name": "stdout",
     "output_type": "stream",
     "text": [
      "Enter the principle amount:12\n",
      "Enter the rate:1\n",
      "Enter the time span:2\n",
      "Compound Interest: 12.240000000000002\n"
     ]
    }
   ],
   "source": [
    "p = input(\"Enter the principle amount:\")     # taking the input from user\n",
    "P = float(p)                                 # converting it into float\n",
    "r = input(\"Enter the rate:\")\n",
    "R = float(r)\n",
    "t = input(\"Enter the time span:\")\n",
    "T = float(t)\n",
    "\n",
    "A = P*((1)+(R/100))*T                        #defining amount formula \n",
    "print(\"Compound Interest:\",A-P)"
   ]
  },
  {
   "cell_type": "markdown",
   "metadata": {
    "id": "maYrgQkQQz3x"
   },
   "source": [
    "###  7:\n",
    "Write a Python program to sum all the items in a list.\n",
    "[2,3,4,-4,5,6,7,12]\n"
   ]
  },
  {
   "cell_type": "code",
   "execution_count": null,
   "metadata": {
    "colab": {
     "base_uri": "https://localhost:8080/"
    },
    "id": "9bMoeO5rQz3y",
    "outputId": "5d17a17f-5502-4878-d686-25461110cf59"
   },
   "outputs": [
    {
     "name": "stdout",
     "output_type": "stream",
     "text": [
      "Sum: 35\n"
     ]
    }
   ],
   "source": [
    "sum=0\n",
    "list1 = [2,3,4,-4,5,6,7,12]\n",
    "for i in list1:               # using for loop to iterate through all values of list1\n",
    "  sum=sum+i                   # adding all values in sum\n",
    "print(\"Sum:\",sum)"
   ]
  },
  {
   "cell_type": "markdown",
   "metadata": {
    "id": "ofD1rVyJQz3y"
   },
   "source": [
    "### 8\n",
    "\n",
    "- A company decided to give bonus of 5% to employee if his/her year of service is more than 5 years.\n",
    "    Ask user for their salary and year of service and print the net bonus amount.\n"
   ]
  },
  {
   "cell_type": "code",
   "execution_count": null,
   "metadata": {
    "colab": {
     "base_uri": "https://localhost:8080/"
    },
    "id": "L_vGNhUZQz3y",
    "outputId": "4ebc75d0-98bb-4300-bd95-87ce8513ff8f"
   },
   "outputs": [
    {
     "name": "stdout",
     "output_type": "stream",
     "text": [
      "Enter the salary:10000\n",
      "Enter the year of service:6\n",
      "Net bonus amount: 500.0\n"
     ]
    }
   ],
   "source": [
    "s= input(\"Enter the salary:\")        # taking the input from the user\n",
    "salary=float(s)                      # converting it into float\n",
    "y= input(\"Enter the year of service:\")\n",
    "years=float(y) \n",
    "if years>5:                          # using if condition for years more than 5\n",
    "  bonus= 0.05*salary\n",
    "  print(\"Net bonus amount:\",bonus)\n",
    "else:\n",
    "  print(\"No bonus\")"
   ]
  },
  {
   "cell_type": "markdown",
   "metadata": {
    "id": "nlWsjwJHQz3y"
   },
   "source": [
    "###  9:\n",
    "- Take values of length and breadth of a rectangle from user and check if it is square or not.\n",
    "- Take two int values from user and print greatest among them."
   ]
  },
  {
   "cell_type": "code",
   "execution_count": null,
   "metadata": {
    "colab": {
     "base_uri": "https://localhost:8080/"
    },
    "id": "TlF_CVYzQz3y",
    "outputId": "6a27b8db-c7fd-4945-9f05-e6df18e536b4"
   },
   "outputs": [
    {
     "name": "stdout",
     "output_type": "stream",
     "text": [
      "Enter length of a rectangle:4\n",
      "Enter breadth of a rectangle:4\n",
      "It is a square\n",
      "Enter the value of first number:23\n",
      "Enter the value of second number:21\n",
      "Number 1 is greater than number 2\n"
     ]
    }
   ],
   "source": [
    "#part 1\n",
    "length=input(\"Enter length of a rectangle:\")     # taking the input from the user\n",
    "l=float(length)                                  # converting it into float\n",
    "breadth=input(\"Enter breadth of a rectangle:\")\n",
    "b=float(breadth)\n",
    "if l==b:                                         # using if condition for length is equal to breadth\n",
    "  print(\"It is a square\") \n",
    "else:\n",
    "  print(\"Not a square\")\n",
    "\n",
    "# part2\n",
    "number1 =input(\"Enter the value of first number:\")    # taking the input from the user\n",
    "n1=int(number1)\n",
    "number2= input(\"Enter the value of second number:\")\n",
    "n2=int(number2)\n",
    "if n1>n2:                                              # using if,elif condition for number greater than other\n",
    "  print(\"Number 1 is greater than number 2\")\n",
    "elif n1<n2:\n",
    "  print(\"Number 2 is greater than number 1\")"
   ]
  },
  {
   "cell_type": "markdown",
   "metadata": {
    "id": "y9vY1QJCQz3y"
   },
   "source": [
    "### 10: \n",
    "\n",
    "- A student will not be allowed to sit in exam if his/her attendence is less than 75%.\n",
    "    Take following input from user\n",
    "    Number of classes held\n",
    "    Number of classes attended.\n",
    "    And print\n",
    "    percentage of class attended\n",
    "    Is student is allowed to sit in exam or not.\n",
    "\n",
    "- Modify the above question to allow student to sit if he/she has medical cause. Ask user if he/she has medical cause or not ( 'Y' or 'N' ) and print accordingly."
   ]
  },
  {
   "cell_type": "code",
   "execution_count": null,
   "metadata": {
    "colab": {
     "base_uri": "https://localhost:8080/"
    },
    "id": "7f1kp5dfQz3z",
    "outputId": "47ae1fba-700e-4567-e8b0-95c583206b0a"
   },
   "outputs": [
    {
     "name": "stdout",
     "output_type": "stream",
     "text": [
      "Enter the total number of classes held:100\n",
      "Enter the number of classes attended:23\n",
      "Does you have a medical cause?n\n",
      "Student is not allowed to sit in an exam\n"
     ]
    }
   ],
   "source": [
    "classes_held = input(\"Enter the total number of classes held:\")\n",
    "ch = int(classes_held)                                             # converting input into integer value\n",
    "classes_attended = input(\"Enter the number of classes attended:\")\n",
    "ca = int(classes_attended)\n",
    "medical= input(\"Does you have a medical cause? \")\n",
    "attendence = ca*100/ch\n",
    "if (attendence > 75) | (medical == 'Y'):                           # using if condition in which defining tw condition for sitting in the exam\n",
    "  print(\"Student is allowed to sit in an exam\")\n",
    "else:\n",
    "  print(\"Student is not allowed to sit in an exam\")\n"
   ]
  },
  {
   "cell_type": "markdown",
   "metadata": {
    "id": "QAjvwsCbQz3z"
   },
   "source": [
    "###  11:\n",
    "- Write a program to find prime factor of a number.\n",
    "If a factor of a number is prime number then it is its prime factor.\n",
    "- Write a program to print all prime number in between 1 to 100. "
   ]
  },
  {
   "cell_type": "code",
   "execution_count": null,
   "metadata": {
    "colab": {
     "base_uri": "https://localhost:8080/"
    },
    "id": "7-EsJVCWm3Lo",
    "outputId": "1d400bea-7a07-43a6-d7cd-8e8d7ebc2419"
   },
   "outputs": [
    {
     "name": "stdout",
     "output_type": "stream",
     "text": [
      "Enter number:36\n",
      "2\n",
      "3\n"
     ]
    }
   ],
   "source": [
    "number=input(\"Enter number:\")\n",
    "n= int(number)\n",
    "for i in range(2,n + 1):       # using for loop for number 2,3,4 and so on\n",
    "    if n % i == 0:             # using if condition \n",
    "        count = 1\n",
    "        for j in range(2,(i//2 + 1)):   # again using for loop to check in a range\n",
    "            if(i % j == 0): \n",
    "                count = 0\n",
    "                break                   # comes out from the loop\n",
    "        if(count == 1):                  # using if to see prime factor\n",
    "            print(i)"
   ]
  },
  {
   "cell_type": "code",
   "execution_count": null,
   "metadata": {
    "colab": {
     "base_uri": "https://localhost:8080/"
    },
    "id": "FxgQ8hi3pyMM",
    "outputId": "7c4d81fb-f0f9-44c7-fc51-7173d4d67c1a"
   },
   "outputs": [
    {
     "name": "stdout",
     "output_type": "stream",
     "text": [
      "2\n",
      "3\n",
      "5\n",
      "7\n",
      "11\n",
      "13\n",
      "17\n",
      "19\n",
      "23\n",
      "29\n",
      "31\n",
      "37\n",
      "41\n",
      "43\n",
      "47\n",
      "53\n",
      "59\n",
      "61\n",
      "67\n",
      "71\n",
      "73\n",
      "79\n",
      "83\n",
      "89\n",
      "97\n"
     ]
    }
   ],
   "source": [
    "for num in range(1,101):          # using for loop to see number in a range 1 to 101\n",
    "   if num > 1:                    # using if condition for number greater than 1\n",
    "       for i in range(2,num):     # using for loop again to see in a range of 2 to number\n",
    "           if (num % i) == 0:     # using if condition \n",
    "               break  \n",
    "       else:  \n",
    "           print(num) \n"
   ]
  },
  {
   "cell_type": "markdown",
   "metadata": {
    "id": "eussthIAQz3z"
   },
   "source": [
    "### 12\n",
    "- Write a program to print Fibonacci series up to n terms\n",
    "    - *Hint:* 0, 1, 1, 2, 3, 5, 8, 13, 21... "
   ]
  },
  {
   "cell_type": "code",
   "execution_count": null,
   "metadata": {
    "id": "qkXI-54nQz3z"
   },
   "outputs": [],
   "source": [
    "\n",
    "nterms = int(input(\"How many terms? \"))\n",
    "\n",
    "# first two terms\n",
    "n1, n2 = 0, 1\n",
    "count = 0\n",
    "\n",
    "# check if the number of terms is valid\n",
    "if nterms <= 0:   # using if, elif condition to check\n",
    "   print(\"Please enter a positive integer\")\n",
    "elif nterms == 1:\n",
    "   print(\"Fibonacci sequence upto\",nterms,\":\")\n",
    "   print(n1)\n",
    "else:\n",
    "   print(\"Fibonacci sequence:\")\n",
    "   while count < nterms:\n",
    "       print(n1)\n",
    "       nth = n1 + n2\n",
    "       # update values\n",
    "       n1 = n2\n",
    "       n2 = nth\n",
    "       count += 1"
   ]
  },
  {
   "cell_type": "markdown",
   "metadata": {
    "id": "A0Y7vrBAQz3z"
   },
   "source": [
    "### 13:\n",
    "Print the following patterns using loop :\n",
    "\n",
    "    a.\n",
    "        *\n",
    "        **\n",
    "        ***\n",
    "        ****\n",
    "    b.\n",
    "          *  \n",
    "         *** \n",
    "        *****\n",
    "         *** \n",
    "          *  \n",
    "    "
   ]
  },
  {
   "cell_type": "code",
   "execution_count": null,
   "metadata": {
    "colab": {
     "base_uri": "https://localhost:8080/"
    },
    "id": "3MtxYq5cQz30",
    "outputId": "be1343c5-d6bb-4d01-c1e5-9f8b1b52547b"
   },
   "outputs": [
    {
     "name": "stdout",
     "output_type": "stream",
     "text": [
      "a.\n",
      "  \n",
      "*\n",
      "**\n",
      "***\n",
      "****\n",
      "  \n",
      "b.\n",
      "  *  \n",
      " *** \n",
      "*****\n",
      " *** \n",
      "  *  \n"
     ]
    }
   ],
   "source": [
    "print(\"a.\")\n",
    "print(\"  \")\n",
    "l= ['*','**','***','****']   # making list of the symbol\n",
    "for i in l:                  # using for loop iterate through the list\n",
    "  print(i)                   # printing it\n",
    "print(\"  \")\n",
    "print(\"b.\")\n",
    "l2 = [\"  *  \",\" *** \",\"*****\",\" *** \",\"  *  \"]   # making list of the symbol\n",
    "for n in l2:                                     # using for loop iterate through the list\n",
    "  print(n)"
   ]
  },
  {
   "cell_type": "markdown",
   "metadata": {
    "id": "AfumyUL-Qz30"
   },
   "source": [
    "### 14:\n",
    "- Create a function that accepts a string and calculate the number of upper case letters and lower case letters"
   ]
  },
  {
   "cell_type": "code",
   "execution_count": null,
   "metadata": {
    "colab": {
     "base_uri": "https://localhost:8080/"
    },
    "id": "_X6VauvQQz30",
    "outputId": "8ddafd0c-0016-4470-8a10-972285d8836a"
   },
   "outputs": [
    {
     "name": "stdout",
     "output_type": "stream",
     "text": [
      "Original String :  The quick Brown Fox\n",
      "No. of Upper case characters :  3\n",
      "No. of Lower case Characters :  13\n"
     ]
    }
   ],
   "source": [
    "def string_test(s):                        # defining the function\n",
    "    d={\"UPPER_CASE\":0, \"LOWER_CASE\":0}     # making dictionary for upper and lower case\n",
    "    for c in s:                            # using for loop to iterate through variable s\n",
    "        if c.isupper():                    # using if condition to check the upper case\n",
    "           d[\"UPPER_CASE\"]+=1\n",
    "        elif c.islower():                  # using elif condition to check the upper case\n",
    "           d[\"LOWER_CASE\"]+=1\n",
    "        else:\n",
    "           pass\n",
    "    print (\"Original String : \", s)\n",
    "    print (\"No. of Upper case characters : \", d[\"UPPER_CASE\"])\n",
    "    print (\"No. of Lower case Characters : \", d[\"LOWER_CASE\"])\n",
    "\n",
    "string_test('The quick Brown Fox')"
   ]
  },
  {
   "cell_type": "markdown",
   "metadata": {
    "id": "qGnh5JzEQz30"
   },
   "source": [
    "###  15\n",
    "\n",
    "- Write a Python program to convert radian to degree with using math module"
   ]
  },
  {
   "cell_type": "code",
   "execution_count": null,
   "metadata": {
    "colab": {
     "base_uri": "https://localhost:8080/"
    },
    "id": "8iaOmAHlQz30",
    "outputId": "58ba8900-d5b2-48c9-ec16-9b991334e404"
   },
   "outputs": [
    {
     "name": "stdout",
     "output_type": "stream",
     "text": [
      "Input radians: 77\n",
      "4410.0\n"
     ]
    }
   ],
   "source": [
    "pi=22/7                                      # defining the value of pi\n",
    "radian = float(input(\"Input radians: \"))     # taking input from the user and then converting it to float\n",
    "degree = radian*(180/pi)                     # convert it to degree by putting the formula\n",
    "print(degree)"
   ]
  },
  {
   "cell_type": "code",
   "execution_count": null,
   "metadata": {
    "id": "Qj5gTE3nQz30"
   },
   "outputs": [],
   "source": []
  }
 ],
 "metadata": {
  "colab": {
   "collapsed_sections": [],
   "name": "Payal Singh.ipynb",
   "provenance": []
  },
  "kernelspec": {
   "display_name": "Python 3",
   "language": "python",
   "name": "python3"
  },
  "language_info": {
   "codemirror_mode": {
    "name": "ipython",
    "version": 3
   },
   "file_extension": ".py",
   "mimetype": "text/x-python",
   "name": "python",
   "nbconvert_exporter": "python",
   "pygments_lexer": "ipython3",
   "version": "3.8.3"
  }
 },
 "nbformat": 4,
 "nbformat_minor": 1
}
